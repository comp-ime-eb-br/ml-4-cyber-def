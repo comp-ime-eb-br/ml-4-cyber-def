{
 "cells": [
  {
   "cell_type": "code",
   "execution_count": 1,
   "metadata": {},
   "outputs": [],
   "source": [
    "import pandas as pd\n",
    "import numpy as np\n",
    "from sklearn.svm import SVC\n",
    "from sklearn.model_selection import GridSearchCV, train_test_split\n",
    "from sklearn.metrics import accuracy_score, confusion_matrix, classification_report\n",
    "import seaborn as sns\n",
    "\n",
    "\n"
   ]
  },
  {
   "cell_type": "code",
   "execution_count": 17,
   "metadata": {},
   "outputs": [],
   "source": [
    "def SVM_test(path, cv=2, test_size=0.3):\n",
    "    # Import dataset\n",
    "    df_dataset = pd.read_csv(path)\n",
    "\n",
    "    # Set a random state for sampling\n",
    "    RANDOM_STATE_SEED = np.random.randint(123)\n",
    "    print(f'Random Seed:{RANDOM_STATE_SEED}')\n",
    "    \n",
    "    # Split dataset in train and test\n",
    "    train, test = train_test_split(df_dataset, test_size=test_size, random_state=RANDOM_STATE_SEED)\n",
    "    \n",
    "    # Count how many instances there are in each label\n",
    "    print(df_dataset[\"Label\"].value_counts())\n",
    "\n",
    "    # Separate in X and y for better classification\n",
    "    y_train = np.array(train.pop(\"Label\"))# pop removes \"Label\" from the dataframe\n",
    "    X_train = train.values\n",
    "\n",
    "    print(f'Tipo X_train: {type(X_train)} Tipo y_train: {type(y_train)} Shape X_train:{X_train.shape} Shape y_train: {y_train.shape}')\n",
    "\n",
    "    y_test = np.array(test.pop(\"Label\")) # pop removes \"Label\" from the dataframe\n",
    "    X_test = test.values\n",
    "\n",
    "    print(f'Tipo X_test: {type(X_test)} Tipo y_test: {type(y_test)} Shape X_test:{X_test.shape} Shape y_test: {y_test.shape}')\n",
    "    \n",
    "    # Define the used classification model\n",
    "    model = SVC(kernel='rbf', gamma='auto')\n",
    "\n",
    "    # Define the grid for hyperparameter tuning\n",
    "    param_grid = {\n",
    "        'C': [0.1, 1, 10],\n",
    "        #'kernel': ['linear', 'rfb'],\n",
    "        #'gamma':[0.1, 1, 'scale']\n",
    "    }\n",
    "\n",
    "    # Define the final classification model\n",
    "    clf = GridSearchCV(\n",
    "        estimator=model,\n",
    "        param_grid=param_grid,\n",
    "        cv=cv,\n",
    "        verbose=1,\n",
    "        n_jobs=-1 \n",
    "        )\n",
    "\n",
    "    # Fit the model to the training data\n",
    "    \n",
    "    %time clf.fit(X=X_train, y=y_train)\n",
    "\n",
    "    # Print best paramenters\n",
    "    print(\"Accuracy score on Validation set: \\n\")\n",
    "    print(clf.best_score_ )\n",
    "    print(\"---------------\")\n",
    "    print(\"Best performing hyperparameters on Validation set: \")\n",
    "    print(clf.best_params_)\n",
    "    print(\"---------------\")\n",
    "    print(clf.best_estimator_)\n",
    "\n",
    "    # Test model on test data and print metrics\n",
    "    model = clf.best_estimator_\n",
    "    predictions = model.predict(X_test)\n",
    "    print(classification_report(y_test,predictions,digits=10))\n",
    "    print(f'Accuracy: {accuracy_score(y_test, predictions)}')\n",
    "\n",
    "    # Print Confusion Matrix\n",
    "    cf_matrix = confusion_matrix(y_test, predictions)\n",
    "    \n",
    "    sns.heatmap(cf_matrix, annot=True)   "
   ]
  },
  {
   "cell_type": "code",
   "execution_count": 18,
   "metadata": {},
   "outputs": [
    {
     "name": "stdout",
     "output_type": "stream",
     "text": [
      "Random Seed:12\n",
      "Label\n",
      "normal      67297\n",
      "abnormal    58026\n",
      "Name: count, dtype: int64\n",
      "Tipo X_train: <class 'numpy.ndarray'> Tipo y_train: <class 'numpy.ndarray'> Shape X_train:(87726, 38) Shape y_train: (87726,)\n",
      "Tipo X_test: <class 'numpy.ndarray'> Tipo y_test: <class 'numpy.ndarray'> Shape X_test:(37597, 38) Shape y_test: (37597,)\n",
      "Fitting 2 folds for each of 3 candidates, totalling 6 fits\n",
      "CPU times: user 44.2 s, sys: 204 ms, total: 44.4 s\n",
      "Wall time: 1min 25s\n",
      "Accuracy score on Validation set: \n",
      "\n",
      "0.9845313818024304\n",
      "---------------\n",
      "Best performing hyperparameters on Validation set: \n",
      "{'C': 10}\n",
      "---------------\n",
      "SVC(C=10, gamma='auto')\n",
      "              precision    recall  f1-score   support\n",
      "\n",
      "    abnormal  0.9890466531 0.9812557498 0.9851357982     17392\n",
      "      normal  0.9839740439 0.9906458797 0.9872986904     20205\n",
      "\n",
      "    accuracy                      0.9863020986     37597\n",
      "   macro avg  0.9865103485 0.9859508148 0.9862172443     37597\n",
      "weighted avg  0.9863205827 0.9863020986 0.9862981579     37597\n",
      "\n",
      "Accuracy: 0.9863020985716946\n"
     ]
    },
    {
     "data": {
      "image/png": "[encoded data removed]",
      "text/plain": [
       "<Figure size 640x480 with 2 Axes>"
      ]
     },
     "metadata": {},
     "output_type": "display_data"
    }
   ],
   "source": [
    "SVM_test('/home/mintssj/Downloads/datasets/filtered/NSL_KDD_equal.csv')"
   ]
  }
 ],
 "metadata": {
  "kernelspec": {
   "display_name": ".venv",
   "language": "python",
   "name": "python3"
  },
  "language_info": {
   "codemirror_mode": {
    "name": "ipython",
    "version": 3
   },
   "file_extension": ".py",
   "mimetype": "text/x-python",
   "name": "python",
   "nbconvert_exporter": "python",
   "pygments_lexer": "ipython3",
   "version": "3.10.6"
  },
  "orig_nbformat": 4
 },
 "nbformat": 4,
 "nbformat_minor": 2
}
